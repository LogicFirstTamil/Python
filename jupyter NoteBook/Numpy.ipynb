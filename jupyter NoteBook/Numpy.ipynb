{
 "cells": [
  {
   "cell_type": "markdown",
   "id": "1cc24b53",
   "metadata": {},
   "source": [
    "# Creating Arrays"
   ]
  },
  {
   "cell_type": "code",
   "execution_count": 2,
   "id": "f5047550",
   "metadata": {},
   "outputs": [
    {
     "name": "stdout",
     "output_type": "stream",
     "text": [
      "[3 4 5 6]\n"
     ]
    }
   ],
   "source": [
    "import numpy as np\n",
    "#creating 1d array\n",
    "n1 = np.array([3,4,5,6])\n",
    "print(n1)"
   ]
  },
  {
   "cell_type": "code",
   "execution_count": 3,
   "id": "951e1c51",
   "metadata": {},
   "outputs": [
    {
     "name": "stdout",
     "output_type": "stream",
     "text": [
      "[[3 5 6 7]\n",
      " [4 5 6 7]]\n"
     ]
    }
   ],
   "source": [
    "#creating 2d array\n",
    "n2 = np.array([[3,5,6,7],[4,5,6,7]])\n",
    "print(n2)"
   ]
  },
  {
   "cell_type": "code",
   "execution_count": 4,
   "id": "3f92fb40",
   "metadata": {},
   "outputs": [
    {
     "name": "stdout",
     "output_type": "stream",
     "text": [
      "[[0 0 0 0 0]\n",
      " [0 0 0 0 0]\n",
      " [0 0 0 0 0]]\n"
     ]
    }
   ],
   "source": [
    "#zero filled 2d array\n",
    "n3 = np.zeros([3,5],dtype='int32')\n",
    "print(n3)"
   ]
  },
  {
   "cell_type": "code",
   "execution_count": 5,
   "id": "0e9087e3",
   "metadata": {},
   "outputs": [
    {
     "name": "stdout",
     "output_type": "stream",
     "text": [
      "[[[1 1 1]\n",
      "  [1 1 1]\n",
      "  [1 1 1]]\n",
      "\n",
      " [[1 1 1]\n",
      "  [1 1 1]\n",
      "  [1 1 1]]]\n"
     ]
    }
   ],
   "source": [
    "#array filled with ones\n",
    "n4 = np.ones([2,3,3],dtype='int32')\n",
    "print(n4)"
   ]
  },
  {
   "cell_type": "code",
   "execution_count": 6,
   "id": "d5ebf415",
   "metadata": {},
   "outputs": [
    {
     "name": "stdout",
     "output_type": "stream",
     "text": [
      "[[1.27702224e+232 4.95270032e+223 1.24805535e+243]]\n"
     ]
    }
   ],
   "source": [
    "#empty array - contain random junk values\n",
    "n5 = np.empty([1,3])\n",
    "print(n5)"
   ]
  },
  {
   "cell_type": "code",
   "execution_count": 7,
   "id": "ddf9cf5e",
   "metadata": {},
   "outputs": [
    {
     "name": "stdout",
     "output_type": "stream",
     "text": [
      "[0 1 2 3 4 5 6 7 8 9]\n"
     ]
    }
   ],
   "source": [
    "#create array with range of values\n",
    "n6 = np.arange(10)\n",
    "print(n6)"
   ]
  },
  {
   "cell_type": "code",
   "execution_count": 8,
   "id": "a429f1e5",
   "metadata": {},
   "outputs": [
    {
     "name": "stdout",
     "output_type": "stream",
     "text": [
      "[-5  0  5 10 15 20 25]\n"
     ]
    }
   ],
   "source": [
    "n7 = np.arange(-5,30,5) #start,stop,step\n",
    "print(n7)"
   ]
  },
  {
   "cell_type": "code",
   "execution_count": 9,
   "id": "2ababc76",
   "metadata": {},
   "outputs": [
    {
     "name": "stdout",
     "output_type": "stream",
     "text": [
      "[ 0.          2.85714286  5.71428571  8.57142857 11.42857143 14.28571429\n",
      " 17.14285714 20.        ]\n"
     ]
    }
   ],
   "source": [
    "#linearly spaced entries\n",
    "n8 = np.linspace(0,20,num=8)\n",
    "print(n8)"
   ]
  },
  {
   "cell_type": "code",
   "execution_count": 10,
   "id": "9d4684dc",
   "metadata": {},
   "outputs": [
    {
     "name": "stdout",
     "output_type": "stream",
     "text": [
      "[[99 99 99 99 99]\n",
      " [99 99 99 99 99]]\n"
     ]
    }
   ],
   "source": [
    "n9 = np.full([2,5],99) #create by specifying dimension and fill with values\n",
    "print(n9)"
   ]
  },
  {
   "cell_type": "code",
   "execution_count": 11,
   "id": "d917df54",
   "metadata": {},
   "outputs": [
    {
     "name": "stdout",
     "output_type": "stream",
     "text": [
      "[[9. 9. 9.]]\n"
     ]
    }
   ],
   "source": [
    "n5.fill(9) #fill an array with values\n",
    "print(n5)"
   ]
  },
  {
   "cell_type": "markdown",
   "id": "c9adad9a",
   "metadata": {},
   "source": [
    "# Accessing"
   ]
  },
  {
   "cell_type": "code",
   "execution_count": 12,
   "id": "199bfd5b",
   "metadata": {},
   "outputs": [
    {
     "name": "stdout",
     "output_type": "stream",
     "text": [
      "3\n"
     ]
    }
   ],
   "source": [
    "print(n1[0])"
   ]
  },
  {
   "cell_type": "code",
   "execution_count": 13,
   "id": "4f5ea133",
   "metadata": {},
   "outputs": [
    {
     "name": "stdout",
     "output_type": "stream",
     "text": [
      "6\n"
     ]
    }
   ],
   "source": [
    "print(n1[-1])"
   ]
  },
  {
   "cell_type": "code",
   "execution_count": 14,
   "id": "fa3c8e55",
   "metadata": {},
   "outputs": [
    {
     "name": "stdout",
     "output_type": "stream",
     "text": [
      "4\n"
     ]
    }
   ],
   "source": [
    "print(n2[1,0])"
   ]
  },
  {
   "cell_type": "code",
   "execution_count": 15,
   "id": "af82fb3e",
   "metadata": {},
   "outputs": [
    {
     "name": "stdout",
     "output_type": "stream",
     "text": [
      "[4 5 6 7]\n"
     ]
    }
   ],
   "source": [
    "print(n2[1,:])"
   ]
  },
  {
   "cell_type": "code",
   "execution_count": 16,
   "id": "f3e27362",
   "metadata": {},
   "outputs": [
    {
     "name": "stdout",
     "output_type": "stream",
     "text": [
      "[7 7]\n"
     ]
    }
   ],
   "source": [
    "print(n2[:,3])"
   ]
  },
  {
   "cell_type": "code",
   "execution_count": 17,
   "id": "d9a8cd52",
   "metadata": {},
   "outputs": [
    {
     "name": "stdout",
     "output_type": "stream",
     "text": [
      "[[[ 1  1  1]\n",
      "  [ 1  1  1]\n",
      "  [ 1  1  1]]\n",
      "\n",
      " [[ 1  1  1]\n",
      "  [ 1  1 10]\n",
      "  [ 1  1  1]]]\n"
     ]
    }
   ],
   "source": [
    "n4[1,1,2] = 10\n",
    "print(n4)"
   ]
  },
  {
   "cell_type": "markdown",
   "id": "a6a14f07",
   "metadata": {},
   "source": [
    "# Size and Shape"
   ]
  },
  {
   "cell_type": "code",
   "execution_count": 18,
   "id": "722dd3e2",
   "metadata": {},
   "outputs": [
    {
     "name": "stdout",
     "output_type": "stream",
     "text": [
      "3\n"
     ]
    }
   ],
   "source": [
    "print(n4.ndim) #ndim gives number of dimensions or axes"
   ]
  },
  {
   "cell_type": "code",
   "execution_count": 19,
   "id": "7a7ad81b",
   "metadata": {},
   "outputs": [
    {
     "name": "stdout",
     "output_type": "stream",
     "text": [
      "(2, 3, 3)\n"
     ]
    }
   ],
   "source": [
    "print(n4.shape)"
   ]
  },
  {
   "cell_type": "code",
   "execution_count": 20,
   "id": "248e28f1",
   "metadata": {},
   "outputs": [
    {
     "name": "stdout",
     "output_type": "stream",
     "text": [
      "18\n"
     ]
    }
   ],
   "source": [
    "print(n4.size)"
   ]
  },
  {
   "cell_type": "code",
   "execution_count": 21,
   "id": "056ad326",
   "metadata": {},
   "outputs": [
    {
     "name": "stdout",
     "output_type": "stream",
     "text": [
      "int32\n"
     ]
    }
   ],
   "source": [
    "print(n4.dtype)"
   ]
  },
  {
   "cell_type": "code",
   "execution_count": 22,
   "id": "9e4083b3",
   "metadata": {},
   "outputs": [
    {
     "name": "stdout",
     "output_type": "stream",
     "text": [
      "4\n"
     ]
    }
   ],
   "source": [
    "print(n4.itemsize)"
   ]
  },
  {
   "cell_type": "code",
   "execution_count": 23,
   "id": "ea950b1c",
   "metadata": {},
   "outputs": [
    {
     "name": "stdout",
     "output_type": "stream",
     "text": [
      "72\n"
     ]
    }
   ],
   "source": [
    "print(n4.nbytes)"
   ]
  },
  {
   "cell_type": "markdown",
   "id": "a2907d14",
   "metadata": {},
   "source": [
    "# Sorting"
   ]
  },
  {
   "cell_type": "code",
   "execution_count": 24,
   "id": "3d485dc6",
   "metadata": {},
   "outputs": [
    {
     "data": {
      "text/plain": [
       "array([ 1,  3,  4,  5,  7,  8,  9, 10])"
      ]
     },
     "execution_count": 24,
     "metadata": {},
     "output_type": "execute_result"
    }
   ],
   "source": [
    "n10 = np.array([3,4,1,9,5,10,8,7])\n",
    "np.sort(n10)"
   ]
  },
  {
   "cell_type": "code",
   "execution_count": 25,
   "id": "33b88604",
   "metadata": {},
   "outputs": [
    {
     "data": {
      "text/plain": [
       "array([[ 2,  6,  7],\n",
       "       [ 1,  5, 10]])"
      ]
     },
     "execution_count": 25,
     "metadata": {},
     "output_type": "execute_result"
    }
   ],
   "source": [
    "n11 = np.array([[6, 2, 7], [5, 10, 1]])\n",
    "np.sort(n11) #default is axis=-1 which is the last axis"
   ]
  },
  {
   "cell_type": "code",
   "execution_count": 26,
   "id": "f4527d86",
   "metadata": {},
   "outputs": [
    {
     "data": {
      "text/plain": [
       "array([[ 5,  2,  1],\n",
       "       [ 6, 10,  7]])"
      ]
     },
     "execution_count": 26,
     "metadata": {},
     "output_type": "execute_result"
    }
   ],
   "source": [
    "np.sort(n11,axis=0)"
   ]
  },
  {
   "cell_type": "code",
   "execution_count": 27,
   "id": "d9c6910f",
   "metadata": {},
   "outputs": [
    {
     "data": {
      "text/plain": [
       "array([[ 2,  6,  7],\n",
       "       [ 1,  5, 10]])"
      ]
     },
     "execution_count": 27,
     "metadata": {},
     "output_type": "execute_result"
    }
   ],
   "source": [
    "np.sort(n11,axis=1)"
   ]
  },
  {
   "cell_type": "markdown",
   "id": "dd4b7ca4",
   "metadata": {},
   "source": [
    "# Reshaping and Array Conversions"
   ]
  },
  {
   "cell_type": "code",
   "execution_count": 28,
   "id": "b724b595",
   "metadata": {},
   "outputs": [
    {
     "name": "stdout",
     "output_type": "stream",
     "text": [
      "[[ 3  4  1  9]\n",
      " [ 5 10  8  7]]\n"
     ]
    }
   ],
   "source": [
    "n12 = n10.reshape(2,4)\n",
    "print(n12)"
   ]
  },
  {
   "cell_type": "code",
   "execution_count": 29,
   "id": "728911f9",
   "metadata": {},
   "outputs": [
    {
     "name": "stdout",
     "output_type": "stream",
     "text": [
      "[0 1 2 3]\n",
      "[5 6 7 8]\n",
      "[0 1 2 3 5 6 7 8]\n"
     ]
    }
   ],
   "source": [
    "#Joining 2 arrays using concatenate\n",
    "n13 = np.arange(4)\n",
    "print(n13)\n",
    "n14 = np.arange(5,9)\n",
    "print(n14)\n",
    "n15 = np.concatenate((n13,n14))\n",
    "print(n15)"
   ]
  },
  {
   "cell_type": "code",
   "execution_count": 30,
   "id": "b897df04",
   "metadata": {},
   "outputs": [
    {
     "name": "stdout",
     "output_type": "stream",
     "text": [
      "[0 1 2 3 4 5 6 7]\n",
      "[[0 1 2 3 4 5 6 7]]\n",
      "(1, 8)\n",
      "[[0]\n",
      " [1]\n",
      " [2]\n",
      " [3]\n",
      " [4]\n",
      " [5]\n",
      " [6]\n",
      " [7]]\n",
      "(8, 1)\n"
     ]
    }
   ],
   "source": [
    "#converting 1d array to 2d array\n",
    "n16 = np.arange(8)\n",
    "print(n16)\n",
    "n17 = n16[np.newaxis,:]\n",
    "print(n17)\n",
    "print(n17.shape)\n",
    "n18 = n16[:,np.newaxis]\n",
    "print(n18)\n",
    "print(n18.shape)"
   ]
  },
  {
   "cell_type": "code",
   "execution_count": 31,
   "id": "b692d3dc",
   "metadata": {},
   "outputs": [
    {
     "name": "stdout",
     "output_type": "stream",
     "text": [
      "[[0]\n",
      " [1]\n",
      " [2]\n",
      " [3]\n",
      " [4]\n",
      " [5]\n",
      " [6]\n",
      " [7]]\n"
     ]
    }
   ],
   "source": [
    "n19 = np.expand_dims(n16,axis = 1)\n",
    "print(n19)"
   ]
  },
  {
   "cell_type": "code",
   "execution_count": 32,
   "id": "6a250bcb",
   "metadata": {},
   "outputs": [
    {
     "name": "stdout",
     "output_type": "stream",
     "text": [
      "[[0 1 2 3 4 5 6 7]]\n"
     ]
    }
   ],
   "source": [
    "n20 = np.expand_dims(n16,axis = 0)\n",
    "print(n20)"
   ]
  },
  {
   "cell_type": "markdown",
   "id": "f0653092",
   "metadata": {},
   "source": [
    "# Indexing and slicing"
   ]
  },
  {
   "cell_type": "code",
   "execution_count": 33,
   "id": "18edd4c4",
   "metadata": {},
   "outputs": [
    {
     "name": "stdout",
     "output_type": "stream",
     "text": [
      "[0 1 2 3 4 5 6 7 8 9]\n",
      "[0 1 2 3 4]\n"
     ]
    }
   ],
   "source": [
    "n21 = np.arange(10)\n",
    "print(n21)\n",
    "print(n21[n21<5])"
   ]
  },
  {
   "cell_type": "code",
   "execution_count": 34,
   "id": "7a5c366c",
   "metadata": {},
   "outputs": [
    {
     "name": "stdout",
     "output_type": "stream",
     "text": [
      "[4 5 6 7]\n"
     ]
    }
   ],
   "source": [
    "print(n21[(n21>3) & (n21<8)])"
   ]
  },
  {
   "cell_type": "code",
   "execution_count": 35,
   "id": "e6b572f1",
   "metadata": {},
   "outputs": [
    {
     "name": "stdout",
     "output_type": "stream",
     "text": [
      "[False False False False False False  True  True  True  True]\n",
      "[6 7 8 9]\n"
     ]
    }
   ],
   "source": [
    "five_up = n21>5\n",
    "print(five_up)\n",
    "print(n21[five_up])"
   ]
  },
  {
   "cell_type": "code",
   "execution_count": 36,
   "id": "a663d9f3",
   "metadata": {},
   "outputs": [
    {
     "name": "stdout",
     "output_type": "stream",
     "text": [
      "(array([6, 7, 8, 9], dtype=int64),)\n"
     ]
    }
   ],
   "source": [
    "n21[6] = 100\n",
    "print(np.nonzero(n21>5))"
   ]
  },
  {
   "cell_type": "code",
   "execution_count": 37,
   "id": "8b30ab70",
   "metadata": {},
   "outputs": [
    {
     "name": "stdout",
     "output_type": "stream",
     "text": [
      "[  3   4   5 100]\n"
     ]
    }
   ],
   "source": [
    "print(n21[3:7])"
   ]
  },
  {
   "cell_type": "markdown",
   "id": "8ae12ec4",
   "metadata": {},
   "source": [
    "# Stack, Split"
   ]
  },
  {
   "cell_type": "code",
   "execution_count": 40,
   "id": "fef19ccc",
   "metadata": {},
   "outputs": [
    {
     "data": {
      "text/plain": [
       "array([[1, 2, 5, 6],\n",
       "       [3, 4, 7, 8]])"
      ]
     },
     "execution_count": 40,
     "metadata": {},
     "output_type": "execute_result"
    }
   ],
   "source": [
    "n22 = np.array([[1,2],[3,4]])\n",
    "n23 = np.array([[5,6],[7,8]])\n",
    "np.hstack((n22,n23))"
   ]
  },
  {
   "cell_type": "code",
   "execution_count": 43,
   "id": "353a3fc5",
   "metadata": {},
   "outputs": [
    {
     "data": {
      "text/plain": [
       "array([[1, 2],\n",
       "       [3, 4],\n",
       "       [5, 6],\n",
       "       [7, 8]])"
      ]
     },
     "execution_count": 43,
     "metadata": {},
     "output_type": "execute_result"
    }
   ],
   "source": [
    "np.vstack((n22,n23))"
   ]
  },
  {
   "cell_type": "code",
   "execution_count": 51,
   "id": "9a1baf2c",
   "metadata": {},
   "outputs": [
    {
     "name": "stdout",
     "output_type": "stream",
     "text": [
      "[ 0  1  2  3  4  5  6  7  8  9 10 11 12 13 14 15 16 17 18 19]\n"
     ]
    },
    {
     "data": {
      "text/plain": [
       "[array([0, 1, 2, 3, 4]),\n",
       " array([5, 6, 7, 8, 9]),\n",
       " array([10, 11, 12, 13, 14]),\n",
       " array([15, 16, 17, 18, 19])]"
      ]
     },
     "execution_count": 51,
     "metadata": {},
     "output_type": "execute_result"
    }
   ],
   "source": [
    "n24 = np.arange(20)\n",
    "print(n24)\n",
    "np.hsplit(n24,4)"
   ]
  },
  {
   "cell_type": "markdown",
   "id": "cf58617d",
   "metadata": {},
   "source": [
    "# Copy"
   ]
  },
  {
   "cell_type": "code",
   "execution_count": 54,
   "id": "24374c6c",
   "metadata": {},
   "outputs": [
    {
     "name": "stdout",
     "output_type": "stream",
     "text": [
      "[100   1   2   3   4   5   6   7   8   9  10  11  12  13  14  15  16  17\n",
      "  18  19]\n",
      "[100   1   2   3   4]\n"
     ]
    }
   ],
   "source": [
    "n25 = n24[0:5] # shallow copy\n",
    "n24[0] = 100\n",
    "print(n24)\n",
    "print(n25)"
   ]
  },
  {
   "cell_type": "code",
   "execution_count": 57,
   "id": "cd223516",
   "metadata": {},
   "outputs": [
    {
     "name": "stdout",
     "output_type": "stream",
     "text": [
      "[100 200   2   3   4   5   6   7   8   9  10  11  12  13  14  15  16  17\n",
      "  18  19]\n",
      "[100 200   2   3   4   5   6   7   8   9  10  11  12  13  14  15  16  17\n",
      "  18  19]\n"
     ]
    }
   ],
   "source": [
    "#deep copy\n",
    "n26 = n24.copy()\n",
    "n24[1]= 200\n",
    "print(n24)\n",
    "print(n26)"
   ]
  },
  {
   "cell_type": "markdown",
   "id": "be2f82e2",
   "metadata": {},
   "source": [
    "# Math"
   ]
  },
  {
   "cell_type": "code",
   "execution_count": 67,
   "id": "7ae487b4",
   "metadata": {},
   "outputs": [
    {
     "name": "stdout",
     "output_type": "stream",
     "text": [
      "[[1 2]\n",
      " [3 4]]\n",
      "[[5 6]\n",
      " [7 8]]\n",
      "[[ 6  8]\n",
      " [10 12]]\n",
      "[[25 36]\n",
      " [49 64]]\n"
     ]
    }
   ],
   "source": [
    "print(n22)\n",
    "print(n23)\n",
    "print(n22+n23)\n",
    "print(n23*n23)"
   ]
  },
  {
   "cell_type": "code",
   "execution_count": 85,
   "id": "301f4354",
   "metadata": {},
   "outputs": [
    {
     "name": "stdout",
     "output_type": "stream",
     "text": [
      "[100 200   2   3   4   5   6   7   8   9  10  11  12  13  14  15  16  17\n",
      "  18  19]\n",
      "489\n",
      "200\n",
      "2\n",
      "[1000 2000   20   30   40   50   60   70   80   90  100  110  120  130\n",
      "  140  150  160  170  180  190]\n"
     ]
    }
   ],
   "source": [
    "print(n26)\n",
    "print(n26.sum())\n",
    "print(n26.max())\n",
    "print(n26.min())\n",
    "print(n26*10)"
   ]
  },
  {
   "cell_type": "code",
   "execution_count": 86,
   "id": "12b45931",
   "metadata": {},
   "outputs": [
    {
     "name": "stdout",
     "output_type": "stream",
     "text": [
      "[ 0.86231887  0.48718768 -0.41614684 -0.9899925  -0.65364362  0.28366219\n",
      "  0.96017029  0.75390225 -0.14550003 -0.91113026 -0.83907153  0.0044257\n",
      "  0.84385396  0.90744678  0.13673722 -0.75968791 -0.95765948 -0.27516334\n",
      "  0.66031671  0.98870462]\n"
     ]
    }
   ],
   "source": [
    "print(np.cos(n26))"
   ]
  },
  {
   "cell_type": "markdown",
   "id": "85b2d40e",
   "metadata": {},
   "source": [
    "# Random Numbers"
   ]
  },
  {
   "cell_type": "code",
   "execution_count": 79,
   "id": "b02dec74",
   "metadata": {},
   "outputs": [
    {
     "data": {
      "text/plain": [
       "array([[0.6756754 , 0.58657492, 0.42845491],\n",
       "       [0.48703211, 0.25432168, 0.89789337],\n",
       "       [0.65050801, 0.58615413, 0.57901873]])"
      ]
     },
     "execution_count": 79,
     "metadata": {},
     "output_type": "execute_result"
    }
   ],
   "source": [
    "np.random.rand(3,3)"
   ]
  },
  {
   "cell_type": "code",
   "execution_count": 83,
   "id": "e7e9f926",
   "metadata": {},
   "outputs": [
    {
     "data": {
      "text/plain": [
       "array([[65, 82],\n",
       "       [89, 38],\n",
       "       [39, 56],\n",
       "       [98, 76]])"
      ]
     },
     "execution_count": 83,
     "metadata": {},
     "output_type": "execute_result"
    }
   ],
   "source": [
    "np.random.randint(100,size=(4,2))"
   ]
  }
 ],
 "metadata": {
  "kernelspec": {
   "display_name": "Python 3 (ipykernel)",
   "language": "python",
   "name": "python3"
  },
  "language_info": {
   "codemirror_mode": {
    "name": "ipython",
    "version": 3
   },
   "file_extension": ".py",
   "mimetype": "text/x-python",
   "name": "python",
   "nbconvert_exporter": "python",
   "pygments_lexer": "ipython3",
   "version": "3.8.2"
  }
 },
 "nbformat": 4,
 "nbformat_minor": 5
}
