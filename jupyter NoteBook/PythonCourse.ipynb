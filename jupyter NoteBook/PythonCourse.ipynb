{
 "cells": [
  {
   "cell_type": "markdown",
   "id": "aef1cb90",
   "metadata": {},
   "source": [
    "# String Slicing\n"
   ]
  },
  {
   "cell_type": "code",
   "execution_count": 1,
   "id": "792cfb53",
   "metadata": {},
   "outputs": [],
   "source": [
    "name = \"Logic First\""
   ]
  },
  {
   "cell_type": "markdown",
   "id": "b1dcf0b0",
   "metadata": {},
   "source": [
    "### Using Indexing \n",
    "##### str[start:stop:step]"
   ]
  },
  {
   "cell_type": "code",
   "execution_count": 2,
   "id": "e7cc3bc3",
   "metadata": {},
   "outputs": [
    {
     "name": "stdout",
     "output_type": "stream",
     "text": [
      "i\n"
     ]
    }
   ],
   "source": [
    "print(name[3])"
   ]
  },
  {
   "cell_type": "code",
   "execution_count": 3,
   "id": "d292f979",
   "metadata": {},
   "outputs": [
    {
     "name": "stdout",
     "output_type": "stream",
     "text": [
      "Logi\n"
     ]
    }
   ],
   "source": [
    "print(name[0:4])"
   ]
  },
  {
   "cell_type": "code",
   "execution_count": 4,
   "id": "30028175",
   "metadata": {},
   "outputs": [
    {
     "name": "stdout",
     "output_type": "stream",
     "text": [
      "Logi\n"
     ]
    }
   ],
   "source": [
    "print(name[:4])"
   ]
  },
  {
   "cell_type": "code",
   "execution_count": 5,
   "id": "323df358",
   "metadata": {},
   "outputs": [
    {
     "name": "stdout",
     "output_type": "stream",
     "text": [
      "gi\n"
     ]
    }
   ],
   "source": [
    "print(name[2:4])"
   ]
  },
  {
   "cell_type": "code",
   "execution_count": 6,
   "id": "93267e39",
   "metadata": {},
   "outputs": [
    {
     "name": "stdout",
     "output_type": "stream",
     "text": [
      "gic First\n"
     ]
    }
   ],
   "source": [
    "print(name[2:])"
   ]
  },
  {
   "cell_type": "code",
   "execution_count": 7,
   "id": "b424ce50",
   "metadata": {},
   "outputs": [
    {
     "name": "stdout",
     "output_type": "stream",
     "text": [
      "g r\n"
     ]
    }
   ],
   "source": [
    "print(name[2:10:3])"
   ]
  },
  {
   "cell_type": "code",
   "execution_count": 8,
   "id": "31856590",
   "metadata": {},
   "outputs": [
    {
     "name": "stdout",
     "output_type": "stream",
     "text": [
      "s\n"
     ]
    }
   ],
   "source": [
    "print(name[-2])"
   ]
  },
  {
   "cell_type": "code",
   "execution_count": 9,
   "id": "5a440a5d",
   "metadata": {},
   "outputs": [
    {
     "name": "stdout",
     "output_type": "stream",
     "text": [
      "Fir\n"
     ]
    }
   ],
   "source": [
    "print(name[-5:-2])"
   ]
  },
  {
   "cell_type": "code",
   "execution_count": 10,
   "id": "149f3bd1",
   "metadata": {},
   "outputs": [
    {
     "name": "stdout",
     "output_type": "stream",
     "text": [
      "sri\n"
     ]
    }
   ],
   "source": [
    "print(name[-2:-5:-1])"
   ]
  },
  {
   "cell_type": "code",
   "execution_count": 11,
   "id": "d3425a77",
   "metadata": {},
   "outputs": [
    {
     "name": "stdout",
     "output_type": "stream",
     "text": [
      "tsriF cigoL\n"
     ]
    }
   ],
   "source": [
    "print(name[::-1])"
   ]
  },
  {
   "cell_type": "code",
   "execution_count": 12,
   "id": "c6fc346a",
   "metadata": {},
   "outputs": [
    {
     "name": "stdout",
     "output_type": "stream",
     "text": [
      "ts\n"
     ]
    }
   ],
   "source": [
    "print(name[:-3:-1])"
   ]
  },
  {
   "cell_type": "code",
   "execution_count": 13,
   "id": "f2b40d1c",
   "metadata": {},
   "outputs": [
    {
     "name": "stdout",
     "output_type": "stream",
     "text": [
      "gic Fir\n"
     ]
    }
   ],
   "source": [
    "print(name[2:-2])"
   ]
  },
  {
   "cell_type": "markdown",
   "id": "48b0d792",
   "metadata": {},
   "source": [
    "### Using Slice Method"
   ]
  },
  {
   "cell_type": "code",
   "execution_count": 14,
   "id": "b6f5a4c3",
   "metadata": {},
   "outputs": [
    {
     "name": "stdout",
     "output_type": "stream",
     "text": [
      "gic Fir\n"
     ]
    }
   ],
   "source": [
    "x = slice(2,-2) # parameters similar to indexing slice(start,stop,step)\n",
    "print(name[x])"
   ]
  },
  {
   "cell_type": "markdown",
   "id": "4f312971",
   "metadata": {},
   "source": [
    "# Lists"
   ]
  },
  {
   "cell_type": "code",
   "execution_count": 15,
   "id": "f1f63037",
   "metadata": {},
   "outputs": [],
   "source": [
    "cities = [\"Chennai\",\"Madurai\",\"Trichy\",\"Coimbatore\",\"Salem\"]\n",
    "val = [3,5,6,3,2,9]\n",
    "list1 = [\"chennai\",3,\"Salem\"]\n",
    "\n"
   ]
  },
  {
   "cell_type": "markdown",
   "id": "8d573e09",
   "metadata": {},
   "source": [
    "### Accessing List with Indexing"
   ]
  },
  {
   "cell_type": "code",
   "execution_count": 16,
   "id": "2eb440e1",
   "metadata": {},
   "outputs": [
    {
     "name": "stdout",
     "output_type": "stream",
     "text": [
      "Chennai\n",
      "6\n",
      "['Chennai', 'Madurai', 'Trichy']\n",
      "Coimbatore\n",
      "['Chennai', 'Trichy', 'Salem']\n",
      "[3, 5, 6, 3, 2, 9]\n"
     ]
    }
   ],
   "source": [
    "print(cities[0])\n",
    "print(val[2])\n",
    "print(cities[:3])\n",
    "print(cities[-2])\n",
    "print(cities[::2])\n",
    "print(val)"
   ]
  },
  {
   "cell_type": "markdown",
   "id": "5a8ee861",
   "metadata": {},
   "source": [
    "### Modify"
   ]
  },
  {
   "cell_type": "code",
   "execution_count": 17,
   "id": "793f9108",
   "metadata": {},
   "outputs": [
    {
     "name": "stdout",
     "output_type": "stream",
     "text": [
      "['Chennai', 'Madurai', 'Tiruchy', 'Coimbatore', 'Salem']\n"
     ]
    }
   ],
   "source": [
    "cities[2] = \"Tiruchy\"\n",
    "print(cities)"
   ]
  },
  {
   "cell_type": "markdown",
   "id": "55a81abd",
   "metadata": {},
   "source": [
    "### Append"
   ]
  },
  {
   "cell_type": "code",
   "execution_count": 18,
   "id": "e0a67a39",
   "metadata": {},
   "outputs": [
    {
     "name": "stdout",
     "output_type": "stream",
     "text": [
      "['Chennai', 'Madurai', 'Tiruchy', 'Coimbatore', 'Salem', 'Karur']\n"
     ]
    }
   ],
   "source": [
    "cities.append(\"Karur\")\n",
    "print(cities)"
   ]
  },
  {
   "cell_type": "markdown",
   "id": "e38aea0b",
   "metadata": {},
   "source": [
    "### Insert"
   ]
  },
  {
   "cell_type": "code",
   "execution_count": 19,
   "id": "2e64695c",
   "metadata": {},
   "outputs": [
    {
     "name": "stdout",
     "output_type": "stream",
     "text": [
      "['Chennai', 'Madurai', 'Tiruchy', 'Thanjavur', 'Coimbatore', 'Salem', 'Karur']\n"
     ]
    }
   ],
   "source": [
    "cities.insert(3,\"Thanjavur\")\n",
    "print(cities)\n"
   ]
  },
  {
   "cell_type": "markdown",
   "id": "5129301f",
   "metadata": {},
   "source": [
    "### Remove using del"
   ]
  },
  {
   "cell_type": "code",
   "execution_count": 20,
   "id": "101e0bf5",
   "metadata": {},
   "outputs": [
    {
     "name": "stdout",
     "output_type": "stream",
     "text": [
      "['Chennai', 'Madurai', 'Tiruchy', 'Coimbatore', 'Salem', 'Karur']\n"
     ]
    }
   ],
   "source": [
    "del cities[3]\n",
    "print(cities)"
   ]
  },
  {
   "cell_type": "markdown",
   "id": "b85dc4e0",
   "metadata": {},
   "source": [
    "### Remove using pop()"
   ]
  },
  {
   "cell_type": "code",
   "execution_count": 21,
   "id": "4e4484a1",
   "metadata": {},
   "outputs": [
    {
     "name": "stdout",
     "output_type": "stream",
     "text": [
      "Tiruchy has been deleted\n",
      "['Chennai', 'Madurai', 'Coimbatore', 'Salem', 'Karur']\n"
     ]
    }
   ],
   "source": [
    "deleted = cities.pop(2)\n",
    "print(deleted + \" has been deleted\")\n",
    "print(cities)"
   ]
  },
  {
   "cell_type": "markdown",
   "id": "5ce17b5d",
   "metadata": {},
   "source": [
    "### Remove by value"
   ]
  },
  {
   "cell_type": "code",
   "execution_count": 22,
   "id": "514f7302",
   "metadata": {},
   "outputs": [
    {
     "name": "stdout",
     "output_type": "stream",
     "text": [
      "['Chennai', 'Madurai', 'Salem', 'Karur']\n"
     ]
    }
   ],
   "source": [
    "city_del = \"Coimbatore\"\n",
    "cities.remove(city_del)\n",
    "print(cities)"
   ]
  },
  {
   "cell_type": "markdown",
   "id": "a042a9aa",
   "metadata": {},
   "source": [
    "### Permanent Sort"
   ]
  },
  {
   "cell_type": "code",
   "execution_count": 23,
   "id": "15f382d4",
   "metadata": {},
   "outputs": [
    {
     "name": "stdout",
     "output_type": "stream",
     "text": [
      "['Chennai', 'Karur', 'Madurai', 'Salem']\n"
     ]
    }
   ],
   "source": [
    "cities.sort()\n",
    "print(cities)"
   ]
  },
  {
   "cell_type": "markdown",
   "id": "38f86e15",
   "metadata": {},
   "source": [
    "### Temoporary Sort"
   ]
  },
  {
   "cell_type": "code",
   "execution_count": 24,
   "id": "08de7095",
   "metadata": {},
   "outputs": [
    {
     "name": "stdout",
     "output_type": "stream",
     "text": [
      "['Chennai', 'Karur', 'Madurai', 'Salem']\n",
      "[2, 3, 3, 5, 6, 9]\n",
      "['Chennai', 'Karur', 'Madurai', 'Salem']\n"
     ]
    }
   ],
   "source": [
    "print(sorted(cities))\n",
    "print(sorted(val))\n",
    "print(cities)"
   ]
  },
  {
   "cell_type": "markdown",
   "id": "a8f53f3a",
   "metadata": {},
   "source": [
    "### Reverse"
   ]
  },
  {
   "cell_type": "code",
   "execution_count": 25,
   "id": "ed782262",
   "metadata": {},
   "outputs": [
    {
     "name": "stdout",
     "output_type": "stream",
     "text": [
      "['Salem', 'Madurai', 'Karur', 'Chennai']\n"
     ]
    }
   ],
   "source": [
    "cities.reverse()\n",
    "print(cities)"
   ]
  },
  {
   "cell_type": "markdown",
   "id": "d3693700",
   "metadata": {},
   "source": [
    "### Length of a List"
   ]
  },
  {
   "cell_type": "code",
   "execution_count": 26,
   "id": "cc986729",
   "metadata": {},
   "outputs": [
    {
     "name": "stdout",
     "output_type": "stream",
     "text": [
      "4\n"
     ]
    }
   ],
   "source": [
    "print(len(cities))"
   ]
  },
  {
   "cell_type": "code",
   "execution_count": 27,
   "id": "28cc1bd4",
   "metadata": {},
   "outputs": [
    {
     "name": "stdout",
     "output_type": "stream",
     "text": [
      "SALEM\n",
      "MADURAI\n",
      "KARUR\n",
      "CHENNAI\n"
     ]
    }
   ],
   "source": [
    "for city in cities:\n",
    "    print(city.upper())"
   ]
  },
  {
   "cell_type": "code",
   "execution_count": 28,
   "id": "9ed13cea",
   "metadata": {},
   "outputs": [
    {
     "name": "stdout",
     "output_type": "stream",
     "text": [
      "['Salem', 'Madurai', 'Karur', 'Chennai']\n"
     ]
    }
   ],
   "source": [
    "cities2 = cities\n",
    "print(cities2)"
   ]
  },
  {
   "cell_type": "code",
   "execution_count": 29,
   "id": "7092a5e3",
   "metadata": {},
   "outputs": [
    {
     "name": "stdout",
     "output_type": "stream",
     "text": [
      "Madurai\n"
     ]
    }
   ],
   "source": [
    "TN = cities\n",
    "Karnataka = ['Bangalore','Mysore','Udupi']\n",
    "AP = ['Tirupathi','Nellore','Vijayawada','Guntur']\n",
    "India = [TN,Karnataka,AP]\n",
    "print(India[0][1])\n"
   ]
  },
  {
   "cell_type": "code",
   "execution_count": 30,
   "id": "a9b1b419",
   "metadata": {},
   "outputs": [],
   "source": [
    "int_2d = [[2,3,4],[3,4,5],[4,5,6]]"
   ]
  },
  {
   "cell_type": "code",
   "execution_count": 31,
   "id": "9b4ee7f6",
   "metadata": {},
   "outputs": [
    {
     "name": "stdout",
     "output_type": "stream",
     "text": [
      "['Salem', 'Madurai', 'Chennai']\n"
     ]
    }
   ],
   "source": [
    "cities.remove('Karur')\n",
    "print(TN)"
   ]
  },
  {
   "cell_type": "code",
   "execution_count": 32,
   "id": "36184372",
   "metadata": {},
   "outputs": [
    {
     "name": "stdout",
     "output_type": "stream",
     "text": [
      "['Salem', 'Madurai', 'Chennai']\n",
      "['Salem', 'Madurai', 'Chennai', 'Tanjavur']\n"
     ]
    }
   ],
   "source": [
    "TN = cities[:]  #   TN = cities.copy() \n",
    "cities.append('Tanjavur')\n",
    "print(TN)\n",
    "print(cities)\n"
   ]
  },
  {
   "cell_type": "code",
   "execution_count": 33,
   "id": "642e3817",
   "metadata": {},
   "outputs": [
    {
     "name": "stdout",
     "output_type": "stream",
     "text": [
      "kadalur\n"
     ]
    }
   ],
   "source": [
    "Indian_States = India[:] #shollow \n",
    "India[0][0] = 'kadalur'\n",
    "print(Indian_States[0][0])"
   ]
  },
  {
   "cell_type": "code",
   "execution_count": 34,
   "id": "c72ab580",
   "metadata": {},
   "outputs": [],
   "source": [
    "import copy\n",
    "Indian_States = copy.deepcopy(India)"
   ]
  },
  {
   "cell_type": "markdown",
   "id": "d00c83a5",
   "metadata": {},
   "source": [
    "# Tuples \n",
    "#### immutable - cannot be changed\n"
   ]
  },
  {
   "cell_type": "code",
   "execution_count": 35,
   "id": "6392d3a8",
   "metadata": {},
   "outputs": [
    {
     "name": "stdout",
     "output_type": "stream",
     "text": [
      "(2, 3, 4)\n"
     ]
    }
   ],
   "source": [
    "tup = (2,3,4)\n",
    "print(tup)"
   ]
  },
  {
   "cell_type": "code",
   "execution_count": 36,
   "id": "1cb73bbb",
   "metadata": {},
   "outputs": [],
   "source": [
    "# tup[1] = 5   - cannot be done - error"
   ]
  },
  {
   "cell_type": "code",
   "execution_count": 37,
   "id": "285e7741",
   "metadata": {},
   "outputs": [
    {
     "name": "stdout",
     "output_type": "stream",
     "text": [
      "(3, 5, 6)\n"
     ]
    }
   ],
   "source": [
    "tup = (3,5,6)\n",
    "print(tup)"
   ]
  },
  {
   "cell_type": "code",
   "execution_count": 38,
   "id": "ab4572de",
   "metadata": {},
   "outputs": [
    {
     "name": "stdout",
     "output_type": "stream",
     "text": [
      "5\n"
     ]
    }
   ],
   "source": [
    "print(tup[1])"
   ]
  },
  {
   "cell_type": "code",
   "execution_count": 39,
   "id": "32d430b5",
   "metadata": {},
   "outputs": [
    {
     "name": "stdout",
     "output_type": "stream",
     "text": [
      "2\n"
     ]
    }
   ],
   "source": [
    "print(tup.index(6))"
   ]
  },
  {
   "cell_type": "code",
   "execution_count": 40,
   "id": "8fb7e806",
   "metadata": {},
   "outputs": [
    {
     "name": "stdout",
     "output_type": "stream",
     "text": [
      "3\n"
     ]
    }
   ],
   "source": [
    "tup = (3,4,5,4,4)\n",
    "print(tup.count(4))"
   ]
  },
  {
   "cell_type": "code",
   "execution_count": 41,
   "id": "c39bef50",
   "metadata": {},
   "outputs": [
    {
     "name": "stdout",
     "output_type": "stream",
     "text": [
      "3\n",
      "4\n",
      "5\n",
      "4\n",
      "4\n"
     ]
    }
   ],
   "source": [
    "for i in tup:\n",
    "    print(i)"
   ]
  },
  {
   "cell_type": "code",
   "execution_count": 42,
   "id": "37fc909a",
   "metadata": {},
   "outputs": [
    {
     "name": "stdout",
     "output_type": "stream",
     "text": [
      "yes\n"
     ]
    }
   ],
   "source": [
    "if 3 in tup:\n",
    "    print('yes')"
   ]
  },
  {
   "cell_type": "code",
   "execution_count": 43,
   "id": "dd787ba4",
   "metadata": {},
   "outputs": [],
   "source": [
    "if 3 not in tup:\n",
    "    print('no')"
   ]
  },
  {
   "cell_type": "code",
   "execution_count": 44,
   "id": "962aed5f",
   "metadata": {},
   "outputs": [
    {
     "name": "stdout",
     "output_type": "stream",
     "text": [
      "tup is not empty\n"
     ]
    }
   ],
   "source": [
    "if tup:\n",
    "    print('tup is not empty')"
   ]
  },
  {
   "cell_type": "markdown",
   "id": "abc6cbc9",
   "metadata": {},
   "source": [
    "# Dictionary\n",
    "key value pair"
   ]
  },
  {
   "cell_type": "code",
   "execution_count": 45,
   "id": "605b8278",
   "metadata": {},
   "outputs": [
    {
     "name": "stdout",
     "output_type": "stream",
     "text": [
      "male\n",
      "{'name': 'Ram', 'age': 25, 'gender': 'male'}\n"
     ]
    }
   ],
   "source": [
    "user = {'name':'Ram','age':25,'gender':'male'}\n",
    "print(user['gender'])\n",
    "print(user)"
   ]
  },
  {
   "cell_type": "markdown",
   "id": "452f2407",
   "metadata": {},
   "source": [
    "### Adding a New Key value pair"
   ]
  },
  {
   "cell_type": "code",
   "execution_count": 46,
   "id": "e2c54994",
   "metadata": {},
   "outputs": [
    {
     "name": "stdout",
     "output_type": "stream",
     "text": [
      "{'name': 'Ram', 'age': 25, 'gender': 'male', 'city': 'chennai'}\n"
     ]
    }
   ],
   "source": [
    "user['city'] = 'chennai'\n",
    "print(user)"
   ]
  },
  {
   "cell_type": "markdown",
   "id": "c4ae0394",
   "metadata": {},
   "source": [
    "### Modify"
   ]
  },
  {
   "cell_type": "code",
   "execution_count": 47,
   "id": "5655d1bf",
   "metadata": {},
   "outputs": [
    {
     "name": "stdout",
     "output_type": "stream",
     "text": [
      "{'name': 'Ram', 'age': 26, 'gender': 'male', 'city': 'chennai'}\n"
     ]
    }
   ],
   "source": [
    "user['age'] = 26\n",
    "print(user)"
   ]
  },
  {
   "cell_type": "markdown",
   "id": "1d0ce5ae",
   "metadata": {},
   "source": [
    "### Delete"
   ]
  },
  {
   "cell_type": "code",
   "execution_count": 48,
   "id": "693a7778",
   "metadata": {},
   "outputs": [
    {
     "name": "stdout",
     "output_type": "stream",
     "text": [
      "{'name': 'Ram', 'age': 26, 'city': 'chennai'}\n"
     ]
    }
   ],
   "source": [
    "del user['gender']\n",
    "print(user)"
   ]
  },
  {
   "cell_type": "markdown",
   "id": "e9ae76da",
   "metadata": {},
   "source": [
    "### Looping"
   ]
  },
  {
   "cell_type": "code",
   "execution_count": 49,
   "id": "52c804a2",
   "metadata": {},
   "outputs": [
    {
     "name": "stdout",
     "output_type": "stream",
     "text": [
      "key: name\n",
      "val: Ram\n",
      "key: age\n",
      "val: 26\n",
      "key: city\n",
      "val: chennai\n"
     ]
    }
   ],
   "source": [
    "for key,val in user.items():\n",
    "    print(\"key: \" + key)\n",
    "    print(\"val: \" + str(val))\n",
    "    "
   ]
  },
  {
   "cell_type": "code",
   "execution_count": 50,
   "id": "dfb93175",
   "metadata": {},
   "outputs": [
    {
     "name": "stdout",
     "output_type": "stream",
     "text": [
      "name\n",
      "age\n",
      "city\n"
     ]
    }
   ],
   "source": [
    "for key in user.keys():\n",
    "    print(key)"
   ]
  },
  {
   "cell_type": "code",
   "execution_count": 51,
   "id": "914bc012",
   "metadata": {},
   "outputs": [
    {
     "name": "stdout",
     "output_type": "stream",
     "text": [
      "26\n",
      "chennai\n",
      "Ram\n"
     ]
    }
   ],
   "source": [
    "for key in sorted(user.keys()):\n",
    "    print(user[key])"
   ]
  },
  {
   "cell_type": "code",
   "execution_count": 52,
   "id": "02a6d66d",
   "metadata": {},
   "outputs": [
    {
     "name": "stdout",
     "output_type": "stream",
     "text": [
      "CTS\n",
      "Amazon\n",
      "CTS\n"
     ]
    }
   ],
   "source": [
    "job = {'Priya':'CTS','John':'Amazon','Vidhya':'CTS'}\n",
    "for company in job.values():\n",
    "    print(company)"
   ]
  },
  {
   "cell_type": "markdown",
   "id": "159bdf68",
   "metadata": {},
   "source": [
    "### List of Dictionaries"
   ]
  },
  {
   "cell_type": "code",
   "execution_count": 53,
   "id": "c0cb8923",
   "metadata": {},
   "outputs": [
    {
     "name": "stdout",
     "output_type": "stream",
     "text": [
      "Ramya\n"
     ]
    }
   ],
   "source": [
    "users = []\n",
    "user = {'name':'Ram','age':25,'gender':'male'}\n",
    "users.append(user)\n",
    "user = {'name':'Ramya','age':26,'gender':'Female'}\n",
    "users.append(user)\n",
    "        \n",
    "print(users[1]['name'])"
   ]
  },
  {
   "cell_type": "markdown",
   "id": "9087241d",
   "metadata": {},
   "source": [
    "### List in Dicitonary"
   ]
  },
  {
   "cell_type": "code",
   "execution_count": 54,
   "id": "c7478d20",
   "metadata": {},
   "outputs": [
    {
     "name": "stdout",
     "output_type": "stream",
     "text": [
      "{'name': 'Ramya', 'age': 26, 'gender': 'Female', 'fav_food': ['poori', 'pizza', 'pasta']}\n",
      "poori\n"
     ]
    }
   ],
   "source": [
    "user['fav_food'] = ['poori','pizza','pasta']\n",
    "print(user)\n",
    "print(user['fav_food'][0])"
   ]
  },
  {
   "cell_type": "markdown",
   "id": "2fbc7c34",
   "metadata": {},
   "source": [
    "# Set\n",
    "- unique elements, not ordered"
   ]
  },
  {
   "cell_type": "code",
   "execution_count": 55,
   "id": "f6b190f9",
   "metadata": {},
   "outputs": [
    {
     "name": "stdout",
     "output_type": "stream",
     "text": [
      "{'red', 'blue', 'orange'}\n"
     ]
    }
   ],
   "source": [
    "colors = {'blue','red','orange','red'}\n",
    "print(colors)"
   ]
  },
  {
   "cell_type": "code",
   "execution_count": 56,
   "id": "a2dc73b4",
   "metadata": {},
   "outputs": [
    {
     "name": "stdout",
     "output_type": "stream",
     "text": [
      "['red', 'blue', 'orange']\n"
     ]
    }
   ],
   "source": [
    "color_list = list(colors)\n",
    "print(color_list)"
   ]
  },
  {
   "cell_type": "markdown",
   "id": "b9136c38",
   "metadata": {},
   "source": [
    "# String Formatting"
   ]
  },
  {
   "cell_type": "code",
   "execution_count": 57,
   "id": "8caa69b6",
   "metadata": {},
   "outputs": [
    {
     "name": "stdout",
     "output_type": "stream",
     "text": [
      "hari likes apples and bananas\n"
     ]
    }
   ],
   "source": [
    "name = 'hari'\n",
    "like1 = 'apples'\n",
    "like2 = 'bananas'\n",
    "\n",
    "print(name + ' likes ' + like1 + ' and ' + like2)"
   ]
  },
  {
   "cell_type": "code",
   "execution_count": 58,
   "id": "505653f1",
   "metadata": {},
   "outputs": [
    {
     "name": "stdout",
     "output_type": "stream",
     "text": [
      "hari likes apples and bananas\n"
     ]
    }
   ],
   "source": [
    "text = '{} likes {} and {}'\n",
    "print(text.format(name,like1,like2))"
   ]
  },
  {
   "cell_type": "code",
   "execution_count": 59,
   "id": "df77259a",
   "metadata": {},
   "outputs": [
    {
     "name": "stdout",
     "output_type": "stream",
     "text": [
      "hari likes apples and bananas\n"
     ]
    }
   ],
   "source": [
    "print('{} likes {} and {}'.format(name,like1,like2))"
   ]
  },
  {
   "cell_type": "code",
   "execution_count": 60,
   "id": "4c88a317",
   "metadata": {},
   "outputs": [
    {
     "name": "stdout",
     "output_type": "stream",
     "text": [
      "hari likes bananas and apples\n"
     ]
    }
   ],
   "source": [
    "text = '{0} likes {2} and {1}'\n",
    "print(text.format(name,like1,like2))"
   ]
  },
  {
   "cell_type": "code",
   "execution_count": 61,
   "id": "f2641eef",
   "metadata": {},
   "outputs": [
    {
     "name": "stdout",
     "output_type": "stream",
     "text": [
      "hari likes apples and bananas\n",
      "ravi likes oranges and grapes\n"
     ]
    }
   ],
   "source": [
    "text = '{name} likes {fruit1} and {fruit2}'\n",
    "print(text.format(name='hari',fruit1='apples',fruit2='bananas'))\n",
    "print(text.format(name='ravi',fruit2='grapes',fruit1='oranges'))"
   ]
  },
  {
   "cell_type": "markdown",
   "id": "09765ec3",
   "metadata": {},
   "source": [
    "###  padding"
   ]
  },
  {
   "cell_type": "code",
   "execution_count": 62,
   "id": "b7d7cf21",
   "metadata": {},
   "outputs": [
    {
     "name": "stdout",
     "output_type": "stream",
     "text": [
      "*****welcome******\n"
     ]
    }
   ],
   "source": [
    "print(\"*****{msg}******\".format(msg=\"welcome\"))"
   ]
  },
  {
   "cell_type": "code",
   "execution_count": 63,
   "id": "dc3fe62e",
   "metadata": {},
   "outputs": [
    {
     "name": "stdout",
     "output_type": "stream",
     "text": [
      "*****welcome             ******\n"
     ]
    }
   ],
   "source": [
    "print(\"*****{msg:20}******\".format(msg=\"welcome\"))"
   ]
  },
  {
   "cell_type": "code",
   "execution_count": 64,
   "id": "72bb177c",
   "metadata": {},
   "outputs": [
    {
     "name": "stdout",
     "output_type": "stream",
     "text": [
      "*****welcome             ******\n"
     ]
    }
   ],
   "source": [
    "print(\"*****{msg:<20}******\".format(msg=\"welcome\"))"
   ]
  },
  {
   "cell_type": "code",
   "execution_count": 65,
   "id": "f7a90ecd",
   "metadata": {},
   "outputs": [
    {
     "name": "stdout",
     "output_type": "stream",
     "text": [
      "*****             welcome******\n"
     ]
    }
   ],
   "source": [
    "print(\"*****{msg:>20}******\".format(msg=\"welcome\"))"
   ]
  },
  {
   "cell_type": "code",
   "execution_count": 66,
   "id": "64ccb482",
   "metadata": {},
   "outputs": [
    {
     "name": "stdout",
     "output_type": "stream",
     "text": [
      "*****      welcome       ******\n"
     ]
    }
   ],
   "source": [
    "print(\"*****{msg:^20}******\".format(msg=\"welcome\"))"
   ]
  },
  {
   "cell_type": "code",
   "execution_count": 67,
   "id": "97034879",
   "metadata": {},
   "outputs": [
    {
     "name": "stdout",
     "output_type": "stream",
     "text": [
      "*****      welcome       ******\n"
     ]
    }
   ],
   "source": [
    "print(\"*****{:^20}******\".format(\"welcome\"))"
   ]
  },
  {
   "cell_type": "markdown",
   "id": "77a2382d",
   "metadata": {},
   "source": [
    "### formating numbers"
   ]
  },
  {
   "cell_type": "code",
   "execution_count": 68,
   "id": "c65a3640",
   "metadata": {},
   "outputs": [
    {
     "name": "stdout",
     "output_type": "stream",
     "text": [
      "The val of pi is 3.142\n"
     ]
    }
   ],
   "source": [
    "pi = 3.14159\n",
    "print(\"The val of pi is {:.3f}\".format(pi))"
   ]
  },
  {
   "cell_type": "code",
   "execution_count": 69,
   "id": "77424ff7",
   "metadata": {},
   "outputs": [
    {
     "name": "stdout",
     "output_type": "stream",
     "text": [
      "The num is 1,000,000\n"
     ]
    }
   ],
   "source": [
    "num = 1000000\n",
    "print(\"The num is {:,}\".format(num))"
   ]
  },
  {
   "cell_type": "code",
   "execution_count": 72,
   "id": "42df9f40",
   "metadata": {},
   "outputs": [
    {
     "name": "stdout",
     "output_type": "stream",
     "text": [
      "The num is 1100101\n"
     ]
    }
   ],
   "source": [
    "num = 101\n",
    "print(\"The num is {:b}\".format(num)) "
   ]
  },
  {
   "cell_type": "markdown",
   "id": "6cac0c2c",
   "metadata": {},
   "source": [
    "b for binary, o for octal, x(or X) for hexa, E for scientific notation"
   ]
  },
  {
   "cell_type": "markdown",
   "id": "69471da7",
   "metadata": {},
   "source": [
    "# Lambda\n",
    "####  lambda par1,par2..parN:expn  - anonymous function"
   ]
  },
  {
   "cell_type": "code",
   "execution_count": 77,
   "id": "c5506d5e",
   "metadata": {},
   "outputs": [
    {
     "name": "stdout",
     "output_type": "stream",
     "text": [
      "18\n"
     ]
    }
   ],
   "source": [
    "def add_ten(num):\n",
    "    return num+10\n",
    "print(add_ten(8))"
   ]
  },
  {
   "cell_type": "code",
   "execution_count": 78,
   "id": "b1c9fdaa",
   "metadata": {},
   "outputs": [
    {
     "name": "stdout",
     "output_type": "stream",
     "text": [
      "15\n"
     ]
    }
   ],
   "source": [
    "add_10=lambda x:x+10\n",
    "print(add_10(5))"
   ]
  },
  {
   "cell_type": "code",
   "execution_count": 79,
   "id": "ee5b13b8",
   "metadata": {},
   "outputs": [
    {
     "name": "stdout",
     "output_type": "stream",
     "text": [
      "120\n"
     ]
    }
   ],
   "source": [
    "product = lambda a,b,c:a*b*c\n",
    "print(product(5,4,6))"
   ]
  },
  {
   "cell_type": "code",
   "execution_count": 81,
   "id": "a134d539",
   "metadata": {},
   "outputs": [
    {
     "name": "stdout",
     "output_type": "stream",
     "text": [
      "False\n"
     ]
    }
   ],
   "source": [
    "tall_enough = lambda h:h>175\n",
    "print(tall_enough(150))"
   ]
  },
  {
   "cell_type": "code",
   "execution_count": 83,
   "id": "7eca2292",
   "metadata": {},
   "outputs": [
    {
     "name": "stdout",
     "output_type": "stream",
     "text": [
      "no\n"
     ]
    }
   ],
   "source": [
    "strong_enough = lambda w : \"yes\" if w>70 else \"no\"\n",
    "print(strong_enough(50))"
   ]
  },
  {
   "cell_type": "markdown",
   "id": "9565ed66",
   "metadata": {},
   "source": [
    "# Sorting with Key"
   ]
  },
  {
   "cell_type": "code",
   "execution_count": 97,
   "id": "64dc0853",
   "metadata": {},
   "outputs": [
    {
     "name": "stdout",
     "output_type": "stream",
     "text": [
      "[(2587, 'book', 450), (3456, 'shoe', 780), (3566, 'phone', 25300), (5412, 'pen', 75)]\n",
      "[(2587, 'book', 450), (5412, 'pen', 75), (3566, 'phone', 25300), (3456, 'shoe', 780)]\n",
      "[(5412, 'pen', 75), (2587, 'book', 450), (3456, 'shoe', 780), (3566, 'phone', 25300)]\n",
      "[(3566, 'phone', 25300), (3456, 'shoe', 780), (2587, 'book', 450), (5412, 'pen', 75)]\n"
     ]
    }
   ],
   "source": [
    "# (itemcode,itemname,price)\n",
    "items = [(3456,\"shoe\",780),(3566,\"phone\",25300),(2587,\"book\",450),(5412,\"pen\",75)] # list of tuples\n",
    "items.sort()\n",
    "print(items)\n",
    "items.sort(key=lambda item:item[1])\n",
    "print(items)\n",
    "items.sort(key=lambda item:item[2])\n",
    "print(items)\n",
    "items.sort(key=lambda item:item[2],reverse=True)\n",
    "print(items)\n",
    "# sort method cannot be used with tuples as it modifies orginal tuple. Tuples are immutable i.e cannot be modified"
   ]
  },
  {
   "cell_type": "markdown",
   "id": "4483ff55",
   "metadata": {},
   "source": [
    "## Assignment\n",
    "(subject,studentname,marks)\n",
    "#### students = [(\"maths\",\"Anitha\",80),(\"biology\",\"Anand\",82),(\"biology\",\"Balaji\",70),(\"maths\",\"Chandru\",90)]\n",
    "sort by marks, sort by subject, sort by name"
   ]
  },
  {
   "cell_type": "code",
   "execution_count": 105,
   "id": "50250ce1",
   "metadata": {},
   "outputs": [
    {
     "name": "stdout",
     "output_type": "stream",
     "text": [
      "[(2587, 'book', 450), (5412, 'pen', 75), (3566, 'phone', 25300), (3456, 'shoe', 780)]\n",
      "((3456, 'shoe', 780), (3566, 'phone', 25300), (2587, 'book', 450), (5412, 'pen', 75))\n",
      "[(5412, 'pen', 75), (2587, 'book', 450), (3456, 'shoe', 780), (3566, 'phone', 25300)]\n",
      "[(3566, 'phone', 25300), (3456, 'shoe', 780), (2587, 'book', 450), (5412, 'pen', 75)]\n"
     ]
    }
   ],
   "source": [
    "# using sorted - temporary - can be used with tuples\n",
    "\n",
    "items = ((3456,\"shoe\",780),(3566,\"phone\",25300),(2587,\"book\",450),(5412,\"pen\",75)) #tuple of tuples\n",
    "print(sorted(items,key=lambda item:item[1]))\n",
    "print(items)\n",
    "print(sorted(items,key=lambda item:item[2]))\n",
    "print(sorted(items,key=lambda item:item[2],reverse=True))"
   ]
  },
  {
   "cell_type": "code",
   "execution_count": 106,
   "id": "0597c7fc",
   "metadata": {},
   "outputs": [],
   "source": [
    "items = [(3456,\"shoe\",780),(3566,\"phone\",25300),(2587,\"book\",450),(5412,\"pen\",75)]"
   ]
  },
  {
   "cell_type": "markdown",
   "id": "b251b8ca",
   "metadata": {},
   "source": [
    "# Map\n",
    "\n",
    "map(function,iterable)"
   ]
  },
  {
   "cell_type": "code",
   "execution_count": 124,
   "id": "6e4732b1",
   "metadata": {},
   "outputs": [
    {
     "name": "stdout",
     "output_type": "stream",
     "text": [
      "[('shoe', 10.54), ('phone', 341.89), ('book', 6.08), ('pen', 1.01)]\n"
     ]
    }
   ],
   "source": [
    "items = [(3456,\"shoe\",780),(3566,\"phone\",25300),(2587,\"book\",450),(5412,\"pen\",75)]\n",
    "inr_usd = lambda item:(item[0],item[1],item[2]/74)\n",
    "inr_usd2 = lambda item:(item[0],item[1],float(\"{:.2f}\".format(item[2]/74)))\n",
    "inr_usd3 = lambda item:(item[1],float(\"{:.2f}\".format(item[2]/74)))\n",
    "items_usd = list(map(inr_usd3,items))\n",
    "print(items_usd)"
   ]
  },
  {
   "cell_type": "code",
   "execution_count": 129,
   "id": "e0a4b0ab",
   "metadata": {},
   "outputs": [
    {
     "name": "stdout",
     "output_type": "stream",
     "text": [
      "[16, 25, 1, 81, 49]\n"
     ]
    }
   ],
   "source": [
    "val = [4,5,1,9,7]\n",
    "val_sq = list(map(lambda x:x*x,val))\n",
    "print(val_sq)"
   ]
  },
  {
   "cell_type": "code",
   "execution_count": 131,
   "id": "00d6d362",
   "metadata": {},
   "outputs": [
    {
     "name": "stdout",
     "output_type": "stream",
     "text": [
      "[16, 25, 1, 81, 49]\n"
     ]
    }
   ],
   "source": [
    "def sq_fun(num):\n",
    "    return num*num\n",
    "val_sq = list(map(sq_fun,val))\n",
    "print(val_sq)"
   ]
  },
  {
   "cell_type": "markdown",
   "id": "2bb0dfc4",
   "metadata": {},
   "source": [
    "## Assignment\n",
    "(subject,studentname,marks)\n",
    "#### Ques 1\n",
    "#### students = [(\"maths\",\"Anitha\",180),(\"biology\",\"Anand\",182),(\"biology\",\"Balaji\",170),(\"maths\",\"Chandru\",190)]\n",
    "create another list with name and marks for 100.\n",
    "#### Ques 2\n",
    "val = [72,78,99,12,56]\n",
    "expected result =['even,'even','odd','even','even']\n",
    "#### Ques 3\n",
    "temp = [102,99,89,70,103]\n",
    "covert temp in fahrenheit to celsius\n"
   ]
  },
  {
   "cell_type": "markdown",
   "id": "a0cc0e1c",
   "metadata": {},
   "source": [
    "# Filter\n",
    "filter(function,iterable)  function should return true or false. If true, the item will be added to result, if false omitted."
   ]
  },
  {
   "cell_type": "code",
   "execution_count": 141,
   "id": "fdf752ff",
   "metadata": {},
   "outputs": [
    {
     "name": "stdout",
     "output_type": "stream",
     "text": [
      "[(2587, 'book', 450), (5412, 'pen', 75)]\n",
      "[(3566, 'phone', 25300), (5412, 'pen', 75)]\n"
     ]
    }
   ],
   "source": [
    "items = [(3456,\"shoe\",780),(3566,\"phone\",25300),(2587,\"book\",450),(5412,\"pen\",75)]\n",
    "less_than_500 = lambda item:item[2]<500\n",
    "filtered = list(filter(less_than_500,items))\n",
    "print(filtered)\n",
    "filtered = list(filter(lambda item:item[1][0]=='p',items))\n",
    "print(filtered)"
   ]
  },
  {
   "cell_type": "markdown",
   "id": "8954099f",
   "metadata": {},
   "source": [
    "# Assignment\n",
    "\n",
    "#### Ques1 \n",
    "#### In the items list above, filter item numbers between 3000 and 4000\n",
    "\n",
    "#### Ques 2\n",
    "#### students = [(\"maths\",\"Anitha\",180),(\"biology\",\"Anand\",182),(\"biology\",\"Balaji\",170),(\"maths\",\"Chandru\",190)]\n",
    "#### In students list, filter 1. Name starts with \"A\" . 2. Marks>=180"
   ]
  },
  {
   "cell_type": "markdown",
   "id": "8ba4dca7",
   "metadata": {},
   "source": [
    "# Reduce\n",
    "reduce(function,iterable)  - performs function on first two elements and repeats it until one value remains on the iterable."
   ]
  },
  {
   "cell_type": "code",
   "execution_count": 150,
   "id": "4b3eddbc",
   "metadata": {},
   "outputs": [
    {
     "name": "stdout",
     "output_type": "stream",
     "text": [
      "26\n"
     ]
    }
   ],
   "source": [
    "import functools\n",
    "vals = [4,7,8,4,3]\n",
    "sum = functools.reduce(lambda x,y:x+y,vals)\n",
    "print(sum)"
   ]
  },
  {
   "cell_type": "code",
   "execution_count": 152,
   "id": "da4153ae",
   "metadata": {},
   "outputs": [
    {
     "name": "stdout",
     "output_type": "stream",
     "text": [
      "python\n"
     ]
    }
   ],
   "source": [
    "chars = ['pyt','h','o','n']\n",
    "word = functools.reduce(lambda x,y:x+y,chars)\n",
    "print(word)"
   ]
  },
  {
   "cell_type": "markdown",
   "id": "0e5a96cd",
   "metadata": {},
   "source": [
    "# List Comprehension\n",
    "#### To create a new list from existing list \n",
    "#### list = [exprn for item in iterable]"
   ]
  },
  {
   "cell_type": "code",
   "execution_count": 159,
   "id": "4624f29c",
   "metadata": {},
   "outputs": [
    {
     "name": "stdout",
     "output_type": "stream",
     "text": [
      "[1, 4, 9, 16, 25, 36, 49, 64, 81, 100]\n",
      "[1, 4, 9, 16, 25, 36, 49, 64, 81, 100]\n"
     ]
    }
   ],
   "source": [
    "# List of square of first 10 natural numbers\n",
    "sq_list = list(map(lambda x:x*x,range(1,11)))\n",
    "print(sq_list)\n",
    "sq_list = [x*x for x in range(1,11) ]\n",
    "print(sq_list)"
   ]
  },
  {
   "cell_type": "markdown",
   "id": "021a7ea7",
   "metadata": {},
   "source": [
    "list = [exprn for item in iterable if cond ]"
   ]
  },
  {
   "cell_type": "code",
   "execution_count": 164,
   "id": "6e73f21c",
   "metadata": {},
   "outputs": [
    {
     "name": "stdout",
     "output_type": "stream",
     "text": [
      "[28, 25, 22]\n"
     ]
    }
   ],
   "source": [
    "temp = [28,30,25,38,22,31]\n",
    "temp_filtered = [i for i in temp if  i<30]\n",
    "print(temp_filtered)"
   ]
  },
  {
   "cell_type": "markdown",
   "id": "19a0b6ca",
   "metadata": {},
   "source": [
    "list = [exprn if-else for item in iterable ]"
   ]
  },
  {
   "cell_type": "code",
   "execution_count": 165,
   "id": "4521f5bd",
   "metadata": {},
   "outputs": [
    {
     "name": "stdout",
     "output_type": "stream",
     "text": [
      "[28, 0, 25, 0, 22, 0]\n"
     ]
    }
   ],
   "source": [
    "temp = [28,30,25,38,22,31]\n",
    "temp_filtered = [i if i<30 else 0 for i in temp]\n",
    "print(temp_filtered)"
   ]
  },
  {
   "cell_type": "markdown",
   "id": "ee014e7b",
   "metadata": {},
   "source": [
    "# Dictionary Comprehension\n",
    "dictionary = {key : exprn for (key,value) in iterable}"
   ]
  },
  {
   "cell_type": "code",
   "execution_count": 179,
   "id": "8ad19483",
   "metadata": {},
   "outputs": [
    {
     "name": "stdout",
     "output_type": "stream",
     "text": [
      "{'p': 20, 'l': 2561, 't': 5500, 'b': 650, 'k': 1500}\n"
     ]
    }
   ],
   "source": [
    "cart = {'phone':25000.00,'lamp':2560.60,'table':5499.99,'pen':20.50,'bag':650.20,'kettle':1500.00}\n",
    "cart_rounded = {k[0]:round(v) for (k,v) in cart.items()}\n",
    "print(cart_rounded)"
   ]
  },
  {
   "cell_type": "markdown",
   "id": "c2c7d4f1",
   "metadata": {},
   "source": [
    "\n",
    "dictionary = {key : exprn for (key,value) in iterable if cond}"
   ]
  },
  {
   "cell_type": "code",
   "execution_count": 182,
   "id": "1e0845fe",
   "metadata": {},
   "outputs": [
    {
     "name": "stdout",
     "output_type": "stream",
     "text": [
      "{'phone': 25000, 'lamp': 2561, 'table': 5500, 'kettle': 1500}\n"
     ]
    }
   ],
   "source": [
    "cart2 = {k:round(v) for (k,v) in cart.items() if v>1000}\n",
    "print(cart2)"
   ]
  },
  {
   "cell_type": "markdown",
   "id": "4479b0a1",
   "metadata": {},
   "source": [
    "dictionary = {key : if/else for (key,value) in iterable}"
   ]
  },
  {
   "cell_type": "code",
   "execution_count": 184,
   "id": "b9aff31f",
   "metadata": {},
   "outputs": [
    {
     "name": "stdout",
     "output_type": "stream",
     "text": [
      "{'phone': 22500.0, 'lamp': 2560.6, 'table': 5499.99, 'pen': 20.5, 'bag': 650.2, 'kettle': 1500.0}\n"
     ]
    }
   ],
   "source": [
    "cart3 = {key:val*.9 if val>20000 else val for (key,val) in cart.items()}\n",
    "print(cart3)"
   ]
  },
  {
   "cell_type": "markdown",
   "id": "94a20c5f",
   "metadata": {},
   "source": [
    "\n",
    "dictionary = {key : func for (key,value) in iterable}"
   ]
  },
  {
   "cell_type": "code",
   "execution_count": 189,
   "id": "74b571ec",
   "metadata": {},
   "outputs": [
    {
     "name": "stdout",
     "output_type": "stream",
     "text": [
      "{'phone': 25000.0, 'lamp': 2433, 'table': 5225, 'pen': 20.5, 'bag': 650.2, 'kettle': 1500.0}\n"
     ]
    }
   ],
   "source": [
    "def furn_disc(k,v):\n",
    "    if(k=='table' or k=='lamp'):\n",
    "        v = round(.95*v)\n",
    "    return v\n",
    "\n",
    "cart4 = {k:furn_disc(k,v) for (k,v) in cart.items()}\n",
    "print(cart4)"
   ]
  },
  {
   "cell_type": "markdown",
   "id": "cf6e2ffa",
   "metadata": {},
   "source": [
    "# Zip\n",
    "zips two or more iterables into a single iterable"
   ]
  },
  {
   "cell_type": "code",
   "execution_count": 198,
   "id": "fb54f022",
   "metadata": {},
   "outputs": [
    {
     "name": "stdout",
     "output_type": "stream",
     "text": [
      "[('phone', 25000, 40), ('lamp', 2500, 33), ('table', 5200, 10)]\n"
     ]
    }
   ],
   "source": [
    "items = ['phone','lamp','table','pen']\n",
    "prices = [25000,2500,5200,15]\n",
    "stocks = [40,33,10]\n",
    "zipped = list(zip(items,prices,stocks))\n",
    "print(zipped)"
   ]
  }
 ],
 "metadata": {
  "kernelspec": {
   "display_name": "Python 3 (ipykernel)",
   "language": "python",
   "name": "python3"
  },
  "language_info": {
   "codemirror_mode": {
    "name": "ipython",
    "version": 3
   },
   "file_extension": ".py",
   "mimetype": "text/x-python",
   "name": "python",
   "nbconvert_exporter": "python",
   "pygments_lexer": "ipython3",
   "version": "3.8.2"
  }
 },
 "nbformat": 4,
 "nbformat_minor": 5
}
